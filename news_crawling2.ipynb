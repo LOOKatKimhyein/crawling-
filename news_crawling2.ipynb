{
 "cells": [
  {
   "cell_type": "code",
   "execution_count": 1,
   "metadata": {},
   "outputs": [],
   "source": [
    "def read_data(filename):\n",
    "    with open(filename, 'r',encoding= 'utf-8') as f:\n",
    "        data = [line.split('\\t') for line in f.read().splitlines()]\n",
    "    return data"
   ]
  },
  {
   "cell_type": "code",
   "execution_count": 2,
   "metadata": {
    "scrolled": false
   },
   "outputs": [],
   "source": [
    "import glob\n",
    "\n",
    "path = '/content/hikim/text/*_page200_clean.txt'\n",
    "files = glob.glob(path)"
   ]
  },
  {
   "cell_type": "code",
   "execution_count": 3,
   "metadata": {
    "scrolled": true
   },
   "outputs": [
    {
     "data": {
      "text/plain": [
       "['/content/hikim/text/7_page200_clean.txt',\n",
       " '/content/hikim/text/9_page200_clean.txt',\n",
       " '/content/hikim/text/6_page200_clean.txt',\n",
       " '/content/hikim/text/5_page200_clean.txt',\n",
       " '/content/hikim/text/2_page200_clean.txt',\n",
       " '/content/hikim/text/3_page200_clean.txt',\n",
       " '/content/hikim/text/8_page200_clean.txt',\n",
       " '/content/hikim/text/1_page200_clean.txt',\n",
       " '/content/hikim/text/4_page200_clean.txt']"
      ]
     },
     "execution_count": 3,
     "metadata": {},
     "output_type": "execute_result"
    }
   ],
   "source": [
    "files\n"
   ]
  },
  {
   "cell_type": "code",
   "execution_count": 5,
   "metadata": {
    "scrolled": true
   },
   "outputs": [],
   "source": [
    "#for i in range(9):\n",
    "#    globals()['route{}'.format(i)] = files[i]\n",
    "    \n",
    "#route0~49 : category1\n",
    "#route 50~99 : category2\n",
    "#route 100~149 : category3\n"
   ]
  },
  {
   "cell_type": "code",
   "execution_count": 6,
   "metadata": {
    "scrolled": false
   },
   "outputs": [],
   "source": [
    "i = 0\n",
    "for t in files:\n",
    "    globals()['read{}'.format(i)] = read_data(t)[0]\n",
    "    i+=1\n",
    "\n"
   ]
  },
  {
   "cell_type": "code",
   "execution_count": null,
   "metadata": {
    "scrolled": true
   },
   "outputs": [],
   "source": [
    "#for i in range(150):\n",
    "#    print(i, i // 50 + 1)\n",
    "#    globals()['read{}'.format(i)].extend(str(i // 50 + 1))"
   ]
  },
  {
   "cell_type": "code",
   "execution_count": null,
   "metadata": {},
   "outputs": [],
   "source": []
  },
  {
   "cell_type": "code",
   "execution_count": null,
   "metadata": {},
   "outputs": [],
   "source": [
    "#for j in range(0,9):\n",
    "#    print('read{j}'.format(j=j))"
   ]
  },
  {
   "cell_type": "code",
   "execution_count": 7,
   "metadata": {},
   "outputs": [],
   "source": [
    "total7 = []\n",
    "sttest = str(read0)\n",
    "words = sttest.split('입력')\n",
    "\n",
    "for i in words:\n",
    "    ii = [i]\n",
    "    ii.extend('7')\n",
    "    total7.append(ii)\n"
   ]
  },
  {
   "cell_type": "code",
   "execution_count": 8,
   "metadata": {},
   "outputs": [],
   "source": [
    "total9 = []\n",
    "sttest = str(read1)\n",
    "words = sttest.split('입력')\n",
    "\n",
    "for i in words:\n",
    "    ii = [i]\n",
    "    ii.extend('9')\n",
    "    total9.append(ii)"
   ]
  },
  {
   "cell_type": "code",
   "execution_count": 9,
   "metadata": {},
   "outputs": [],
   "source": [
    "total6 = []\n",
    "sttest = str(read2)\n",
    "words = sttest.split('입력')\n",
    "\n",
    "for i in words:\n",
    "    ii = [i]\n",
    "    ii.extend('6')\n",
    "    total6.append(ii)"
   ]
  },
  {
   "cell_type": "code",
   "execution_count": 10,
   "metadata": {},
   "outputs": [],
   "source": [
    "total5 = []\n",
    "sttest = str(read3)\n",
    "words = sttest.split('입력')\n",
    "\n",
    "for i in words:\n",
    "    ii = [i]\n",
    "    ii.extend('5')\n",
    "    total5.append(ii)"
   ]
  },
  {
   "cell_type": "code",
   "execution_count": 11,
   "metadata": {},
   "outputs": [],
   "source": [
    "total2 = []\n",
    "sttest = str(read4)\n",
    "words = sttest.split('입력')\n",
    "\n",
    "for i in words:\n",
    "    ii = [i]\n",
    "    ii.extend('2')\n",
    "    total2.append(ii)"
   ]
  },
  {
   "cell_type": "code",
   "execution_count": 12,
   "metadata": {},
   "outputs": [],
   "source": [
    "total3 = []\n",
    "sttest = str(read5)\n",
    "words = sttest.split('입력')\n",
    "\n",
    "for i in words:\n",
    "    ii = [i]\n",
    "    ii.extend('3')\n",
    "    total3.append(ii)"
   ]
  },
  {
   "cell_type": "code",
   "execution_count": 13,
   "metadata": {},
   "outputs": [],
   "source": [
    "total8 = []\n",
    "sttest = str(read6)\n",
    "words = sttest.split('입력')\n",
    "\n",
    "for i in words:\n",
    "    ii = [i]\n",
    "    ii.extend('8')\n",
    "    total8.append(ii)"
   ]
  },
  {
   "cell_type": "code",
   "execution_count": 14,
   "metadata": {},
   "outputs": [],
   "source": [
    "total1 = []\n",
    "sttest = str(read7)\n",
    "words = sttest.split('입력')\n",
    "\n",
    "for i in words:\n",
    "    ii = [i]\n",
    "    ii.extend('1')\n",
    "    total1.append(ii)"
   ]
  },
  {
   "cell_type": "code",
   "execution_count": 15,
   "metadata": {},
   "outputs": [],
   "source": [
    "total4 = []\n",
    "sttest = str(read8)\n",
    "words = sttest.split('입력 ')\n",
    "\n",
    "for i in words:\n",
    "    ii = [i]\n",
    "    ii.extend('4')\n",
    "    total4.append(ii)"
   ]
  },
  {
   "cell_type": "code",
   "execution_count": 19,
   "metadata": {},
   "outputs": [
    {
     "data": {
      "text/plain": [
       "2023"
      ]
     },
     "execution_count": 19,
     "metadata": {},
     "output_type": "execute_result"
    }
   ],
   "source": [
    "len(total1)\n",
    "#현재 total1~9"
   ]
  },
  {
   "cell_type": "code",
   "execution_count": 22,
   "metadata": {},
   "outputs": [],
   "source": [
    "data_merge = []\n",
    "\n",
    "for i in range(1,10):\n",
    "    data_merge.extend(globals()['total{}'.format(i)])\n"
   ]
  },
  {
   "cell_type": "code",
   "execution_count": 23,
   "metadata": {},
   "outputs": [
    {
     "name": "stdout",
     "output_type": "stream",
     "text": [
      "2\n"
     ]
    }
   ],
   "source": [
    "#category1 = total1\n",
    "print(len(data_merge[0]))"
   ]
  },
  {
   "cell_type": "code",
   "execution_count": 24,
   "metadata": {},
   "outputs": [
    {
     "name": "stdout",
     "output_type": "stream",
     "text": [
      "17953\n"
     ]
    }
   ],
   "source": [
    "#전체 카테고리 9개\n",
    "print(len(data_merge))"
   ]
  },
  {
   "cell_type": "code",
   "execution_count": 33,
   "metadata": {},
   "outputs": [],
   "source": [
    "X = [row for row in data_merge if len(row[0]) > 10]\n"
   ]
  },
  {
   "cell_type": "code",
   "execution_count": 34,
   "metadata": {},
   "outputs": [
    {
     "name": "stdout",
     "output_type": "stream",
     "text": [
      "2\n"
     ]
    }
   ],
   "source": [
    "print(len(X[0]))"
   ]
  },
  {
   "cell_type": "code",
   "execution_count": 35,
   "metadata": {},
   "outputs": [
    {
     "name": "stdout",
     "output_type": "stream",
     "text": [
      "17943\n"
     ]
    }
   ],
   "source": [
    "print(len(X))"
   ]
  },
  {
   "cell_type": "markdown",
   "metadata": {},
   "source": [
    "pandas dataframe안쓰는 방법고안"
   ]
  },
  {
   "cell_type": "code",
   "execution_count": 45,
   "metadata": {},
   "outputs": [],
   "source": [
    "import random\n",
    "data_list = data_merge\n",
    "random.shuffle(data_list)\n",
    "cut_point = int(len(data_list) * 0.7)"
   ]
  },
  {
   "cell_type": "code",
   "execution_count": 47,
   "metadata": {},
   "outputs": [],
   "source": [
    "train = data_list[ : cut_point]\n",
    "test = data_list[cut_point : ]"
   ]
  },
  {
   "cell_type": "code",
   "execution_count": 48,
   "metadata": {},
   "outputs": [
    {
     "data": {
      "text/plain": [
       "12567"
      ]
     },
     "execution_count": 48,
     "metadata": {},
     "output_type": "execute_result"
    }
   ],
   "source": [
    "len(train)"
   ]
  },
  {
   "cell_type": "code",
   "execution_count": 49,
   "metadata": {},
   "outputs": [
    {
     "data": {
      "text/plain": [
       "5386"
      ]
     },
     "execution_count": 49,
     "metadata": {},
     "output_type": "execute_result"
    }
   ],
   "source": [
    "len(test)"
   ]
  },
  {
   "cell_type": "code",
   "execution_count": null,
   "metadata": {},
   "outputs": [],
   "source": [
    "#train_data = X[:105]\n",
    "#test_data=X[105:]"
   ]
  },
  {
   "cell_type": "markdown",
   "metadata": {},
   "source": [
    "2.KoNLPy로 품사tagging"
   ]
  },
  {
   "cell_type": "code",
   "execution_count": 51,
   "metadata": {
    "scrolled": true
   },
   "outputs": [
    {
     "name": "stdout",
     "output_type": "stream",
     "text": [
      "Collecting konlpy\n",
      "\u001b[?25l  Downloading https://files.pythonhosted.org/packages/e5/3d/4e983cd98d87b50b2ab0387d73fa946f745aa8164e8888a714d5129f9765/konlpy-0.5.1-py2.py3-none-any.whl (19.4MB)\n",
      "\u001b[K    100% |████████████████████████████████| 19.4MB 2.5MB/s ta 0:00:011    72% |███████████████████████         | 14.0MB 10.4MB/s eta 0:00:01\n",
      "\u001b[?25hCollecting JPype1>=0.5.7 (from konlpy)\n",
      "\u001b[?25l  Downloading https://files.pythonhosted.org/packages/c4/4b/60a3e63d51714d4d7ef1b1efdf84315d118a0a80a5b085bb52a7e2428cdc/JPype1-0.6.3.tar.gz (168kB)\n",
      "\u001b[K    100% |████████████████████████████████| 174kB 11.4MB/s ta 0:00:01\n",
      "\u001b[?25hBuilding wheels for collected packages: JPype1\n",
      "  Running setup.py bdist_wheel for JPype1 ... \u001b[?25ldone\n",
      "\u001b[?25h  Stored in directory: /root/.cache/pip/wheels/0e/2b/e8/c0b818ac4b3d35104d35e48cdc7afe27fc06ea277feed2831a\n",
      "Successfully built JPype1\n",
      "Installing collected packages: JPype1, konlpy\n",
      "Successfully installed JPype1-0.6.3 konlpy-0.5.1\n"
     ]
    }
   ],
   "source": [
    "!pip install konlpy"
   ]
  },
  {
   "cell_type": "code",
   "execution_count": 52,
   "metadata": {},
   "outputs": [],
   "source": [
    "from konlpy.tag import Okt\n",
    "pos_tagger = Okt()\n",
    "def tokenize(doc):\n",
    "    return ['/'.join(t) for t in pos_tagger.pos(doc, norm=True, stem=True)]"
   ]
  },
  {
   "cell_type": "code",
   "execution_count": 53,
   "metadata": {},
   "outputs": [],
   "source": [
    "import pickle"
   ]
  },
  {
   "cell_type": "code",
   "execution_count": 54,
   "metadata": {},
   "outputs": [],
   "source": [
    "train_docs = [(tokenize(row[0]), row[1]) for row in train]\n",
    "test_docs = [(tokenize(row[0]), row[1]) for row in test]"
   ]
  },
  {
   "cell_type": "markdown",
   "metadata": {},
   "source": [
    "tokenize save"
   ]
  },
  {
   "cell_type": "code",
   "execution_count": 64,
   "metadata": {},
   "outputs": [
    {
     "data": {
      "text/plain": [
       "'/content/hikim'"
      ]
     },
     "execution_count": 64,
     "metadata": {},
     "output_type": "execute_result"
    }
   ],
   "source": [
    "import os\n",
    "os.getcwd()\n"
   ]
  },
  {
   "cell_type": "code",
   "execution_count": 65,
   "metadata": {},
   "outputs": [],
   "source": [
    "# save txt\n",
    "with open(\"/content/hikim/traintestdata/train_docs_save.txt\", 'wb')as wt:\n",
    "     pickle.dump(train_docs, wt)\n",
    "    \n",
    "with open(\"/content/hikim/traintestdata/test_docs_save.txt\", 'wb')as wt:\n",
    "    pickle.dump(test_docs, wt)"
   ]
  },
  {
   "cell_type": "markdown",
   "metadata": {},
   "source": [
    "tokenize load"
   ]
  },
  {
   "cell_type": "code",
   "execution_count": 66,
   "metadata": {},
   "outputs": [],
   "source": [
    "# load\n",
    "with open('/content/hikim/traintestdata/train_docs_save.txt', 'rb') as rd:\n",
    "    train_docs1 = pickle.load(rd)\n",
    "    \n",
    "with open('/content/hikim/traintestdata/test_docs_save.txt', 'rb') as rd:\n",
    "    test_docs1 = pickle.load(rd)"
   ]
  },
  {
   "cell_type": "code",
   "execution_count": null,
   "metadata": {},
   "outputs": [],
   "source": [
    "#train_docs1"
   ]
  },
  {
   "cell_type": "code",
   "execution_count": 69,
   "metadata": {},
   "outputs": [
    {
     "name": "stdout",
     "output_type": "stream",
     "text": [
      "12567 2\n"
     ]
    }
   ],
   "source": [
    "print(len(train_docs1),len(train_docs1[0]))"
   ]
  },
  {
   "cell_type": "code",
   "execution_count": 71,
   "metadata": {},
   "outputs": [
    {
     "name": "stdout",
     "output_type": "stream",
     "text": [
      "Collecting nltk\n",
      "\u001b[?25l  Downloading https://files.pythonhosted.org/packages/6f/ed/9c755d357d33bc1931e157f537721efb5b88d2c583fe593cc09603076cc3/nltk-3.4.zip (1.4MB)\n",
      "\u001b[K    100% |████████████████████████████████| 1.4MB 7.4MB/s eta 0:00:01\n",
      "\u001b[?25hRequirement already satisfied: six in /opt/conda/lib/python3.6/site-packages (from nltk) (1.11.0)\n",
      "Collecting singledispatch (from nltk)\n",
      "  Downloading https://files.pythonhosted.org/packages/c5/10/369f50bcd4621b263927b0a1519987a04383d4a98fb10438042ad410cf88/singledispatch-3.4.0.3-py2.py3-none-any.whl\n",
      "Building wheels for collected packages: nltk\n",
      "  Running setup.py bdist_wheel for nltk ... \u001b[?25ldone\n",
      "\u001b[?25h  Stored in directory: /root/.cache/pip/wheels/4b/c8/24/b2343664bcceb7147efeb21c0b23703a05b23fcfeaceaa2a1e\n",
      "Successfully built nltk\n",
      "Installing collected packages: singledispatch, nltk\n",
      "Successfully installed nltk-3.4 singledispatch-3.4.0.3\n"
     ]
    }
   ],
   "source": [
    "!pip install nltk"
   ]
  },
  {
   "cell_type": "code",
   "execution_count": 72,
   "metadata": {},
   "outputs": [],
   "source": [
    "import nltk\n",
    "\n",
    "tokens = [t for d in train_docs1 for t in d[0]]\n",
    "\n",
    "text = nltk.Text(tokens, name='NMSC')"
   ]
  },
  {
   "cell_type": "code",
   "execution_count": 73,
   "metadata": {},
   "outputs": [
    {
     "data": {
      "text/plain": [
       "5741909"
      ]
     },
     "execution_count": 73,
     "metadata": {},
     "output_type": "execute_result"
    }
   ],
   "source": [
    "#전체 토큰의 갯수\n",
    "len(text.tokens)"
   ]
  },
  {
   "cell_type": "code",
   "execution_count": 74,
   "metadata": {},
   "outputs": [
    {
     "data": {
      "text/plain": [
       "5741909"
      ]
     },
     "execution_count": 74,
     "metadata": {},
     "output_type": "execute_result"
    }
   ],
   "source": [
    "len(tokens)\n"
   ]
  },
  {
   "cell_type": "code",
   "execution_count": 75,
   "metadata": {},
   "outputs": [
    {
     "name": "stdout",
     "output_type": "stream",
     "text": [
      "82381\n"
     ]
    }
   ],
   "source": [
    "#유니크한 token의 갯수\n",
    "print(len(set(text.tokens)))"
   ]
  },
  {
   "cell_type": "code",
   "execution_count": 76,
   "metadata": {},
   "outputs": [
    {
     "name": "stdout",
     "output_type": "stream",
     "text": [
      "[('하다/Verb', 195668), ('을/Josa', 151006), ('이/Josa', 101983), ('의/Josa', 92952), ('에/Josa', 92329), ('를/Josa', 84124), ('은/Josa', 74402), ('는/Josa', 62158), ('가/Josa', 60377), ('있다/Adjective', 59223)]\n"
     ]
    }
   ],
   "source": [
    "\n",
    "print(text.vocab().most_common(10))"
   ]
  },
  {
   "cell_type": "code",
   "execution_count": 77,
   "metadata": {},
   "outputs": [
    {
     "name": "stdout",
     "output_type": "stream",
     "text": [
      "82381\n"
     ]
    }
   ],
   "source": [
    "print(len(text.vocab()))"
   ]
  },
  {
   "cell_type": "code",
   "execution_count": null,
   "metadata": {},
   "outputs": [],
   "source": [
    "#pilot test\n",
    "#selected_words = [f[0] for f in text.vocab().most_common(3000)]\n",
    "#len(selected_words)"
   ]
  },
  {
   "cell_type": "code",
   "execution_count": 87,
   "metadata": {},
   "outputs": [
    {
     "data": {
      "text/plain": [
       "2000"
      ]
     },
     "execution_count": 87,
     "metadata": {},
     "output_type": "execute_result"
    }
   ],
   "source": [
    "selected_words = [f[0] for f in text.vocab().most_common(2000)]\n",
    "len(selected_words)"
   ]
  },
  {
   "cell_type": "code",
   "execution_count": 88,
   "metadata": {},
   "outputs": [],
   "source": [
    "def term_exists(doc):\n",
    "    return {'exists({})'.format(word): (word in set(doc)) for word in selected_words}"
   ]
  },
  {
   "cell_type": "code",
   "execution_count": 89,
   "metadata": {
    "scrolled": true
   },
   "outputs": [
    {
     "data": {
      "text/plain": [
       "12567"
      ]
     },
     "execution_count": 89,
     "metadata": {},
     "output_type": "execute_result"
    }
   ],
   "source": [
    "len(train_docs1)"
   ]
  },
  {
   "cell_type": "code",
   "execution_count": 85,
   "metadata": {},
   "outputs": [
    {
     "data": {
      "text/plain": [
       "(['20181116/Number',\n",
       "  '0311/Number',\n",
       "  '오랑캐/Noun',\n",
       "  '를/Josa',\n",
       "  '물리/Noun',\n",
       "  '치자/Noun',\n",
       "  '일장기/Noun',\n",
       "  '에/Josa',\n",
       "  '攘夷/Foreign',\n",
       "  '양/Noun',\n",
       "  '이/Josa',\n",
       "  '두/Noun',\n",
       "  '글자/Noun',\n",
       "  '를/Josa',\n",
       "  '새기다/Verb',\n",
       "  '현수막/Noun',\n",
       "  '이/Josa',\n",
       "  '내/Noun',\n",
       "  '걸리다/Verb',\n",
       "  '방탄소년단/Noun',\n",
       "  '공연/Noun',\n",
       "  '이/Josa',\n",
       "  '열리다/Verb',\n",
       "  '지난/Noun',\n",
       "  '13일/Number',\n",
       "  '일본/Noun',\n",
       "  '도쿄돔/Noun',\n",
       "  '앞/Noun',\n",
       "  '에서/Josa',\n",
       "  '시위/Noun',\n",
       "  '한/Josa',\n",
       "  '일본/Noun',\n",
       "  '새벽/Noun',\n",
       "  '회/Noun',\n",
       "  '청년/Noun',\n",
       "  '들/Suffix',\n",
       "  '이/Josa',\n",
       "  '내/Determiner',\n",
       "  '건/Noun',\n",
       "  '구호/Noun',\n",
       "  '다/Josa',\n",
       "  '양/Modifier',\n",
       "  '이/Noun',\n",
       "  '는/Josa',\n",
       "  '우리/Noun',\n",
       "  '에게도/Josa',\n",
       "  '익숙하다/Adjective',\n",
       "  '말/Noun',\n",
       "  '이다/Josa',\n",
       "  '1894년/Number',\n",
       "  '동학/Noun',\n",
       "  '농민/Noun',\n",
       "  '군/Suffix',\n",
       "  '이/Josa',\n",
       "  '일본/Noun',\n",
       "  '침략/Noun',\n",
       "  '에/Josa',\n",
       "  '저항/Noun',\n",
       "  '하다/Verb',\n",
       "  '내/Determiner',\n",
       "  '건/Noun',\n",
       "  '구호/Noun',\n",
       "  '가/Josa',\n",
       "  '척왜/Noun',\n",
       "  '양/Suffix',\n",
       "  '이/Josa',\n",
       "  '斥倭攘夷/Foreign',\n",
       "  '이다/Verb',\n",
       "  '300/Number',\n",
       "  '20150828/Number',\n",
       "  '13일/Number',\n",
       "  '공연/Noun',\n",
       "  '이/Josa',\n",
       "  '열리다/Verb',\n",
       "  '도쿄돔/Noun',\n",
       "  '앞/Noun',\n",
       "  '에서/Josa',\n",
       "  '‘/Foreign',\n",
       "  '오랑캐/Noun',\n",
       "  '를/Josa',\n",
       "  '물리/Noun',\n",
       "  '치자/Noun',\n",
       "  '攘夷/Foreign',\n",
       "  '’/Punctuation',\n",
       "  '늘다/Verb',\n",
       "  '구호/Noun',\n",
       "  '를/Josa',\n",
       "  '내/Determiner',\n",
       "  '걸/Noun',\n",
       "  '고/Josa',\n",
       "  '시위/Noun',\n",
       "  '하다/Verb',\n",
       "  '청년/Noun',\n",
       "  '뉴시스/Noun',\n",
       "  '올해/Noun',\n",
       "  '는/Josa',\n",
       "  '일본/Noun',\n",
       "  '대중문화/Noun',\n",
       "  '개방/Noun',\n",
       "  '20/Number',\n",
       "  '주년/Noun',\n",
       "  '되다/Verb',\n",
       "  '해/Noun',\n",
       "  '다/Josa',\n",
       "  '1998년/Number',\n",
       "  '10월/Number',\n",
       "  '20일/Number',\n",
       "  '우리/Noun',\n",
       "  '정부/Noun',\n",
       "  '는/Josa',\n",
       "  '일본/Noun',\n",
       "  '영화/Noun',\n",
       "  '·/Punctuation',\n",
       "  '만화/Noun',\n",
       "  '를/Josa',\n",
       "  '전격/Noun',\n",
       "  '개방/Noun',\n",
       "  '한/Josa',\n",
       "  '다/Adverb',\n",
       "  '고/Noun',\n",
       "  '발표/Noun',\n",
       "  '하다/Verb',\n",
       "  '2006년/Number',\n",
       "  '까지/Foreign',\n",
       "  '방송/Noun',\n",
       "  '·/Punctuation',\n",
       "  '음반/Noun',\n",
       "  '·/Punctuation',\n",
       "  '게임/Noun',\n",
       "  '·/Punctuation',\n",
       "  '애니메이션/Noun',\n",
       "  '을/Josa',\n",
       "  '전면/Noun',\n",
       "  '개방/Noun',\n",
       "  '하다/Verb',\n",
       "  '왜색/Noun',\n",
       "  '문화/Noun',\n",
       "  '가/Josa',\n",
       "  '우리/Noun',\n",
       "  '문화/Noun',\n",
       "  '시장/Noun',\n",
       "  '을/Josa',\n",
       "  '빠르다/Adjective',\n",
       "  '잠식/Noun',\n",
       "  '하다/Verb',\n",
       "  '것/Noun',\n",
       "  '이란/Josa',\n",
       "  '우려/Noun',\n",
       "  '가/Josa',\n",
       "  '높다/Adjective',\n",
       "  '하지만/Conjunction',\n",
       "  '20년/Number',\n",
       "  '이/Foreign',\n",
       "  '지난/Noun',\n",
       "  '지금/Noun',\n",
       "  '양/Noun',\n",
       "  '이란/Josa',\n",
       "  '구호/Noun',\n",
       "  '가/Josa',\n",
       "  '나오다/Verb',\n",
       "  '만큼/Noun',\n",
       "  '극적/Noun',\n",
       "  '인/Josa',\n",
       "  '역전/Noun',\n",
       "  '현상/Noun',\n",
       "  '이/Josa',\n",
       "  '벌어지다/Verb',\n",
       "  '있다/Adjective',\n",
       "  '정덕/Noun',\n",
       "  '현/Noun',\n",
       "  '대중문화/Noun',\n",
       "  '평론가/Noun',\n",
       "  '는/Josa',\n",
       "  '1960년/Number',\n",
       "  '대/Foreign',\n",
       "  '미국/Noun',\n",
       "  '에서/Josa',\n",
       "  '비틀스/Noun',\n",
       "  '가/Josa',\n",
       "  '엄청나다/Adjective',\n",
       "  '인기/Noun',\n",
       "  '를/Josa',\n",
       "  '끄다/Verb',\n",
       "  '브리티시/Noun',\n",
       "  '인베이전/Noun',\n",
       "  '영국/Noun',\n",
       "  '의/Josa',\n",
       "  '침략/Noun',\n",
       "  '이라고/Josa',\n",
       "  '하다/Verb',\n",
       "  '것/Noun',\n",
       "  '처럼/Josa',\n",
       "  '21/Number',\n",
       "  '세기/Noun',\n",
       "  '비틀스/Noun',\n",
       "  '라/Josa',\n",
       "  '불리다/Verb',\n",
       "  '를/Noun',\n",
       "  '중심/Noun',\n",
       "  '으로/Josa',\n",
       "  '한류/Noun',\n",
       "  '바람/Noun',\n",
       "  '이/Josa',\n",
       "  '거세지다/Adjective',\n",
       "  '일본/Noun',\n",
       "  '내/Noun',\n",
       "  '위기/Noun',\n",
       "  '의식/Noun',\n",
       "  '이/Josa',\n",
       "  '커지다/Verb',\n",
       "  '있다/Adjective',\n",
       "  '분석/Noun',\n",
       "  '하다/Verb',\n",
       "  '◇/Foreign',\n",
       "  '잠식/Noun',\n",
       "  '두렵다/Adjective',\n",
       "  '않다/Verb',\n",
       "  '글로벌/Noun',\n",
       "  '전략/Noun',\n",
       "  '으로/Josa',\n",
       "  '질주/Noun',\n",
       "  '콘텐츠/Noun',\n",
       "  '의/Josa',\n",
       "  '역전/Noun',\n",
       "  '은/Josa',\n",
       "  '음악/Noun',\n",
       "  '시장/Noun',\n",
       "  '에서/Josa',\n",
       "  '가장/Noun',\n",
       "  '두드러지다/Adjective',\n",
       "  '한국/Noun',\n",
       "  '음악/Noun',\n",
       "  '의/Josa',\n",
       "  '일본/Noun',\n",
       "  '수출/Noun',\n",
       "  '액/Noun',\n",
       "  '은/Josa',\n",
       "  '최신/Noun',\n",
       "  '통계/Noun',\n",
       "  '인/Josa',\n",
       "  '2016년/Number',\n",
       "  '2억/Number',\n",
       "  '7729만달러/Number',\n",
       "  '로/Foreign',\n",
       "  '일본/Noun',\n",
       "  '음악/Noun',\n",
       "  '수입/Noun',\n",
       "  '액/Noun',\n",
       "  '291만달러/Number',\n",
       "  '의/Foreign',\n",
       "  '약/Noun',\n",
       "  '100/Number',\n",
       "  '배/Noun',\n",
       "  '에/Josa',\n",
       "  '이르다/Verb',\n",
       "  '게임/Noun',\n",
       "  '분야/Noun',\n",
       "  '도/Josa',\n",
       "  '크게/Noun',\n",
       "  '앞서다/Verb',\n",
       "  '수출/Noun',\n",
       "  '액/Noun',\n",
       "  '은/Josa',\n",
       "  '6억달러/Number',\n",
       "  '로/Foreign',\n",
       "  '수입/Noun',\n",
       "  '액/Noun',\n",
       "  '5160만달러/Number',\n",
       "  '의/Foreign',\n",
       "  '10/Number',\n",
       "  '배/Noun',\n",
       "  '가/Josa',\n",
       "  '넘다/Verb',\n",
       "  '바람/Noun',\n",
       "  '의/Josa',\n",
       "  '나라/Noun',\n",
       "  '넥슨/Noun',\n",
       "  '에서/Josa',\n",
       "  '배틀/Noun',\n",
       "  '그/Determiner',\n",
       "  '라운드/Noun',\n",
       "  '펍/Noun',\n",
       "  '지다/Verb',\n",
       "  '한국/Noun',\n",
       "  '온라인/Noun',\n",
       "  '게임/Noun',\n",
       "  '이/Josa',\n",
       "  '일본/Noun',\n",
       "  '방/Noun',\n",
       "  '을/Josa',\n",
       "  '장악/Noun',\n",
       "  '하다/Verb',\n",
       "  '방송/Noun',\n",
       "  '도/Josa',\n",
       "  '마찬가지/Noun',\n",
       "  '수출/Noun',\n",
       "  '액/Noun',\n",
       "  '이/Josa',\n",
       "  '수입/Noun',\n",
       "  '액/Noun',\n",
       "  '의/Josa',\n",
       "  '약/Noun',\n",
       "  '12/Number',\n",
       "  '배/Noun',\n",
       "  '에/Josa',\n",
       "  '이르다/Verb',\n",
       "  '이/Determiner',\n",
       "  '달/Noun',\n",
       "  '데뷔/Noun',\n",
       "  '한/Josa',\n",
       "  '국내/Noun',\n",
       "  '첫/Noun',\n",
       "  '하다/Verb',\n",
       "  '·/Punctuation',\n",
       "  '일/Noun',\n",
       "  '합작/Noun',\n",
       "  '걸그룹/Noun',\n",
       "  '아이즈/Noun',\n",
       "  '원/Suffix',\n",
       "  '은/Josa',\n",
       "  '역전/Noun',\n",
       "  '의/Josa',\n",
       "  '상징/Noun',\n",
       "  '적/Suffix',\n",
       "  '사례/Noun',\n",
       "  '다/Josa',\n",
       "  '멤버/Noun',\n",
       "  '12/Number',\n",
       "  '명/Noun',\n",
       "  '중/Noun',\n",
       "  '3/Number',\n",
       "  '명/Noun',\n",
       "  '은/Josa',\n",
       "  '48/Number',\n",
       "  '등/Noun',\n",
       "  '일본/Noun',\n",
       "  '인기/Noun',\n",
       "  '걸그룹/Noun',\n",
       "  '출신/Noun',\n",
       "  '엠넷/Noun',\n",
       "  '의/Josa',\n",
       "  '오디션/Noun',\n",
       "  '프로그램/Noun',\n",
       "  '프로/Noun',\n",
       "  '듀스/Noun',\n",
       "  '48/Number',\n",
       "  '에서/Josa',\n",
       "  '한국/Noun',\n",
       "  '연습생/Noun',\n",
       "  '들/Suffix',\n",
       "  '과/Josa',\n",
       "  '계급/Noun',\n",
       "  '장/Suffix',\n",
       "  '떼다/Verb',\n",
       "  '경쟁/Noun',\n",
       "  '하다/Verb',\n",
       "  '데뷔/Noun',\n",
       "  '하다/Verb',\n",
       "  '한국/Noun',\n",
       "  '안무가/Noun',\n",
       "  '에게/Josa',\n",
       "  '춤/Noun',\n",
       "  '실력/Noun',\n",
       "  '등/Noun',\n",
       "  '을/Josa',\n",
       "  '지적/Noun',\n",
       "  '받다/Verb',\n",
       "  '등/Noun',\n",
       "  '혹독하다/Adjective',\n",
       "  '훈련/Noun',\n",
       "  '을/Josa',\n",
       "  '거치다/Verb',\n",
       "  '김용범/Noun',\n",
       "  '책임/Noun',\n",
       "  '프로듀서/Noun',\n",
       "  '는/Josa',\n",
       "  '일본/Noun',\n",
       "  '아이돌/Noun',\n",
       "  '육성/Noun',\n",
       "  '시스템/Noun',\n",
       "  '을/Josa',\n",
       "  '모델/Noun',\n",
       "  '로/Josa',\n",
       "  '삼다/Verb',\n",
       "  '출발/Noun',\n",
       "  '하다/Verb',\n",
       "  '때/Noun',\n",
       "  '를/Josa',\n",
       "  '생각/Noun',\n",
       "  '하다/Verb',\n",
       "  '있다/Adjective',\n",
       "  '수/Noun',\n",
       "  '없다/Adjective',\n",
       "  '일이/Modifier',\n",
       "  '벌어지다/Verb',\n",
       "  '것/Noun',\n",
       "  '이라고/Josa',\n",
       "  '하다/Verb',\n",
       "  '300/Number',\n",
       "  '20150828/Number',\n",
       "  '전문가/Noun',\n",
       "  '들/Suffix',\n",
       "  '은/Josa',\n",
       "  '개방/Noun',\n",
       "  '초기/Noun',\n",
       "  '부터/Josa',\n",
       "  '대규모/Noun',\n",
       "  '시장/Noun',\n",
       "  '인/Josa',\n",
       "  '일본/Noun',\n",
       "  '을/Josa',\n",
       "  '노리다/Verb',\n",
       "  '공격/Noun',\n",
       "  '적/Suffix',\n",
       "  '으로/Josa',\n",
       "  '대응/Noun',\n",
       "  '한/Josa',\n",
       "  '것/Noun',\n",
       "  '이/Josa',\n",
       "  '주효/Noun',\n",
       "  '하다/Verb',\n",
       "  '말/Noun',\n",
       "  '하다/Verb',\n",
       "  '일본/Noun',\n",
       "  '음악/Noun',\n",
       "  '산업/Noun',\n",
       "  '규모/Noun',\n",
       "  '는/Josa',\n",
       "  '57억/Number',\n",
       "  '3100만달러/Number',\n",
       "  '로/Foreign',\n",
       "  '미국/Noun',\n",
       "  '195억/Number',\n",
       "  '8800만달러/Number',\n",
       "  '에/Foreign',\n",
       "  '이다/Verb',\n",
       "  '세계/Noun',\n",
       "  '2/Number',\n",
       "  '위/Noun',\n",
       "  '한국/Noun',\n",
       "  '9억/Number',\n",
       "  '4500만달러/Number',\n",
       "  '보다/Foreign',\n",
       "  '6/Number',\n",
       "  '배/Noun',\n",
       "  '크다/Verb',\n",
       "  '김/Noun',\n",
       "  '작가/Noun',\n",
       "  '대중/Noun',\n",
       "  '음악평론가/Noun',\n",
       "  '는/Josa',\n",
       "  '일본/Noun',\n",
       "  '걸그룹/Noun',\n",
       "  '이/Josa',\n",
       "  '성장/Noun',\n",
       "  '형/Suffix',\n",
       "  '국민/Noun',\n",
       "  '여동생/Noun',\n",
       "  '이미지/Noun',\n",
       "  '로/Josa',\n",
       "  '자급자족/Noun',\n",
       "  '수익/Noun',\n",
       "  '에/Josa',\n",
       "  '주력/Noun',\n",
       "  '하다/Verb',\n",
       "  '한국/Noun',\n",
       "  '은/Josa',\n",
       "  '일찍/Noun',\n",
       "  '부터/Josa',\n",
       "  '글로벌/Noun',\n",
       "  '시장/Noun',\n",
       "  '에/Josa',\n",
       "  '눈/Noun',\n",
       "  '을/Josa',\n",
       "  '돌리다/Verb',\n",
       "  '칼/Noun',\n",
       "  '군무/Noun',\n",
       "  '에/Josa',\n",
       "  '외국어/Noun',\n",
       "  '실력/Noun',\n",
       "  '을/Josa',\n",
       "  '갖추다/Verb',\n",
       "  '경쟁력/Noun',\n",
       "  '을/Josa',\n",
       "  '높이다/Verb',\n",
       "  '하다/Verb',\n",
       "  '◇/Foreign',\n",
       "  '혐한/Noun',\n",
       "  '기류/Noun',\n",
       "  '도/Josa',\n",
       "  '뚫다/Verb',\n",
       "  '콘텐츠/Noun',\n",
       "  '의/Josa',\n",
       "  '힘/Noun',\n",
       "  '유튜브/Noun',\n",
       "  '와/Josa',\n",
       "  '온라인/Noun',\n",
       "  '기반/Noun',\n",
       "  '으로/Josa',\n",
       "  '바뀌다/Verb',\n",
       "  '음원/Noun',\n",
       "  '소비/Noun',\n",
       "  '방식/Noun',\n",
       "  '도/Josa',\n",
       "  '크다/Verb',\n",
       "  '날개/Noun',\n",
       "  '가/Josa',\n",
       "  '돼다/Verb',\n",
       "  '관계자/Noun',\n",
       "  '는/Josa',\n",
       "  '일본/Noun',\n",
       "  '은/Josa',\n",
       "  '물론/Adverb',\n",
       "  '전/Noun',\n",
       "  '세계/Noun',\n",
       "  '에/Josa',\n",
       "  '곧바로/Noun',\n",
       "  '신곡/Noun',\n",
       "  '음원/Noun',\n",
       "  '을/Josa',\n",
       "  '동시/Noun',\n",
       "  '에/Josa',\n",
       "  '발매/Noun',\n",
       "  '하다/Verb',\n",
       "  '수/Noun',\n",
       "  '있다/Adjective',\n",
       "  '되다/Verb',\n",
       "  '활동/Noun',\n",
       "  '제약/Noun',\n",
       "  '이/Josa',\n",
       "  '줄/Noun',\n",
       "  '고/Josa',\n",
       "  '성과/Noun',\n",
       "  '도/Josa',\n",
       "  '커지다/Verb',\n",
       "  '하다/Verb',\n",
       "  '이제/Noun',\n",
       "  '는/Josa',\n",
       "  '일본/Noun',\n",
       "  '프로덕션/Noun',\n",
       "  '이나/Josa',\n",
       "  '방송사/Noun',\n",
       "  '홍보/Noun',\n",
       "  '에/Josa',\n",
       "  '의존/Noun',\n",
       "  '하다/Verb',\n",
       "  '않다/Verb',\n",
       "  '일본/Noun',\n",
       "  '팬/Noun',\n",
       "  '들/Suffix',\n",
       "  '이/Josa',\n",
       "  '·/Punctuation',\n",
       "  '워/Noun',\n",
       "  '너/Modifier',\n",
       "  '원/Noun',\n",
       "  '·/Punctuation',\n",
       "  '트와이스/Noun',\n",
       "  '등/Noun',\n",
       "  '팝/Noun',\n",
       "  '아이돌/Noun',\n",
       "  '의/Josa',\n",
       "  '신곡/Noun',\n",
       "  '영상/Noun',\n",
       "  '에/Josa',\n",
       "  '직접/Noun',\n",
       "  '번역/Noun',\n",
       "  '자막/Noun',\n",
       "  '을/Josa',\n",
       "  '달/Noun',\n",
       "  '아/Josa',\n",
       "  '소셜미디어/Noun',\n",
       "  '로/Josa',\n",
       "  '확산/Noun',\n",
       "  '시키다/Verb',\n",
       "  '티셔츠/Noun',\n",
       "  '논란/Noun',\n",
       "  '으로/Josa',\n",
       "  '불거지다/Verb',\n",
       "  '혐한/Noun',\n",
       "  '기류/Noun',\n",
       "  '에도/Josa',\n",
       "  '도쿄돔/Noun',\n",
       "  '콘서트/Noun',\n",
       "  '에/Josa',\n",
       "  '10만/Number',\n",
       "  '관객/Noun',\n",
       "  '이/Josa',\n",
       "  '몰려들다/Verb',\n",
       "  '건/Noun',\n",
       "  '콘텐츠/Noun',\n",
       "  '의/Josa',\n",
       "  '힘/Noun',\n",
       "  '덕분/Noun',\n",
       "  '이다/Josa',\n",
       "  '이규/Noun',\n",
       "  '탁/Noun',\n",
       "  '조지/Noun',\n",
       "  '메이슨/Noun',\n",
       "  '대/Suffix',\n",
       "  '교수/Noun',\n",
       "  '는/Josa',\n",
       "  '글로벌/Noun',\n",
       "  '음악/Noun',\n",
       "  '트렌드/Noun',\n",
       "  '를/Josa',\n",
       "  '발/Noun',\n",
       "  '빠르다/Adjective',\n",
       "  '흡수/Noun',\n",
       "  '하다/Verb',\n",
       "  '퍼포먼스/Noun',\n",
       "  '실력/Noun',\n",
       "  '까지/Josa',\n",
       "  '갖추다/Verb',\n",
       "  '아티스트/Noun',\n",
       "  '급/Suffix',\n",
       "  '아이돌/Noun',\n",
       "  '을/Josa',\n",
       "  '탄생/Noun',\n",
       "  '시키다/Verb',\n",
       "  '콘텐츠/Noun',\n",
       "  '측면/Noun',\n",
       "  '에서/Josa',\n",
       "  '한국/Noun',\n",
       "  '이/Josa',\n",
       "  '압도/Noun',\n",
       "  '하고/Josa',\n",
       "  '있다/Adjective',\n",
       "  '평/Noun',\n",
       "  '하다/Verb',\n",
       "  '하다/Verb',\n",
       "  '·/Punctuation',\n",
       "  '일/Noun',\n",
       "  '간/Noun',\n",
       "  '정치/Noun',\n",
       "  '갈등/Noun',\n",
       "  '이/Josa',\n",
       "  '대중문화/Noun',\n",
       "  '교류/Noun',\n",
       "  '에/Josa',\n",
       "  '영향/Noun',\n",
       "  '을/Josa',\n",
       "  '주지/Noun',\n",
       "  '만/Josa',\n",
       "  '전문가/Noun',\n",
       "  '들/Suffix',\n",
       "  '은/Josa',\n",
       "  '하다/Verb',\n",
       "  '·/Punctuation',\n",
       "  '일/Noun',\n",
       "  '대중문화/Noun',\n",
       "  '는/Josa',\n",
       "  '서로/Noun',\n",
       "  '윈/Noun',\n",
       "  '·/Punctuation',\n",
       "  '윈/Noun',\n",
       "  '·/Punctuation',\n",
       "  '하다/Verb',\n",
       "  '수/Noun',\n",
       "  '있다/Adjective',\n",
       "  '최적/Noun',\n",
       "  '의/Josa',\n",
       "  '파트너/Noun',\n",
       "  '라고/Josa',\n",
       "  '입/Noun',\n",
       "  '을/Josa',\n",
       "  '모으다/Verb',\n",
       "  '하다/Verb',\n",
       "  '근/Modifier',\n",
       "  '문화/Noun',\n",
       "  '평론가/Noun',\n",
       "  '는/Josa',\n",
       "  '팝/Noun',\n",
       "  '전체/Noun',\n",
       "  '수익/Noun',\n",
       "  '의/Josa',\n",
       "  '절반/Noun',\n",
       "  '이상/Noun',\n",
       "  '을/Josa',\n",
       "  '차지/Noun',\n",
       "  '하다/Verb',\n",
       "  '일본/Noun',\n",
       "  '은/Josa',\n",
       "  '여전하다/Adjective',\n",
       "  '개척/Noun',\n",
       "  '기회/Noun',\n",
       "  '가/Josa',\n",
       "  '크다/Verb',\n",
       "  '시장/Noun',\n",
       "  '이라고/Josa',\n",
       "  '하다/Verb',\n",
       "  '일본/Noun',\n",
       "  '입장/Noun',\n",
       "  '에서도/Josa',\n",
       "  '한국/Noun',\n",
       "  '은/Josa',\n",
       "  '세계/Noun',\n",
       "  '시장/Noun',\n",
       "  '개척/Noun',\n",
       "  '을/Josa',\n",
       "  '위/Noun',\n",
       "  '한/Josa',\n",
       "  '교두보/Noun',\n",
       "  '다/Josa',\n",
       "  '일본/Noun',\n",
       "  '대중문화/Noun',\n",
       "  '평론가/Noun',\n",
       "  '후루/Noun',\n",
       "  '야/Josa',\n",
       "  '마사/Noun',\n",
       "  '유키/Noun',\n",
       "  '는/Josa',\n",
       "  '정치/Noun',\n",
       "  '는/Josa',\n",
       "  '정치/Noun',\n",
       "  '의/Josa',\n",
       "  '사명/Noun',\n",
       "  '이/Josa',\n",
       "  '따로/Adverb',\n",
       "  '있다/Adjective',\n",
       "  '문화/Noun',\n",
       "  '는/Josa',\n",
       "  '이/Noun',\n",
       "  '와/Josa',\n",
       "  '별개/Noun',\n",
       "  '로/Josa',\n",
       "  '시민/Noun',\n",
       "  '교류/Noun',\n",
       "  '차원/Noun',\n",
       "  '의/Josa',\n",
       "  '커뮤니케이션/Noun',\n",
       "  '을/Josa',\n",
       "  '지향/Noun',\n",
       "  '하다/Verb',\n",
       "  '하다/Verb',\n",
       "  '말/Noun',\n",
       "  '하다/Verb',\n",
       "  '좋다/Adjective',\n",
       "  '0/Number',\n",
       "  'ⓒ/Foreign',\n",
       "  '조선일보/Noun',\n",
       "  '제휴/Noun',\n",
       "  '안내/Noun',\n",
       "  '구독/Noun',\n",
       "  '신청/Noun'],\n",
       " '5')"
      ]
     },
     "execution_count": 85,
     "metadata": {},
     "output_type": "execute_result"
    }
   ],
   "source": [
    "train_docs1[0]"
   ]
  },
  {
   "cell_type": "code",
   "execution_count": 90,
   "metadata": {},
   "outputs": [],
   "source": [
    "#train_docs = train_docs1[40:]\n",
    "#test_docs = test_docs1[:40]\n",
    "train_xy = [(term_exists(d), c) for d, c in train_docs1]\n",
    "test_xy = [(term_exists(d), c) for d, c in test_docs1]"
   ]
  },
  {
   "cell_type": "code",
   "execution_count": 94,
   "metadata": {
    "scrolled": false
   },
   "outputs": [
    {
     "data": {
      "text/plain": [
       "5386"
      ]
     },
     "execution_count": 94,
     "metadata": {},
     "output_type": "execute_result"
    }
   ],
   "source": [
    "len(train_xy)\n",
    "len(test_xy)"
   ]
  },
  {
   "cell_type": "code",
   "execution_count": 95,
   "metadata": {},
   "outputs": [],
   "source": [
    "example = train_xy[0]"
   ]
  },
  {
   "cell_type": "code",
   "execution_count": 106,
   "metadata": {},
   "outputs": [
    {
     "data": {
      "text/plain": [
       "['exists(하다/Verb)',\n",
       " 'exists(을/Josa)',\n",
       " 'exists(이/Josa)',\n",
       " 'exists(의/Josa)',\n",
       " 'exists(에/Josa)',\n",
       " 'exists(를/Josa)',\n",
       " 'exists(은/Josa)',\n",
       " 'exists(는/Josa)',\n",
       " 'exists(가/Josa)',\n",
       " 'exists(있다/Adjective)']"
      ]
     },
     "execution_count": 106,
     "metadata": {},
     "output_type": "execute_result"
    }
   ],
   "source": [
    "list(example[0].keys())[:10]"
   ]
  },
  {
   "cell_type": "code",
   "execution_count": 105,
   "metadata": {},
   "outputs": [
    {
     "data": {
      "text/plain": [
       "[True, True, True, True, True, True, True, True, True, True]"
      ]
     },
     "execution_count": 105,
     "metadata": {},
     "output_type": "execute_result"
    }
   ],
   "source": [
    "list(example[0].values())[:10]"
   ]
  },
  {
   "cell_type": "markdown",
   "metadata": {},
   "source": [
    "Naive Bayes를 통한 분류"
   ]
  },
  {
   "cell_type": "code",
   "execution_count": 91,
   "metadata": {},
   "outputs": [
    {
     "name": "stdout",
     "output_type": "stream",
     "text": [
      "0.7803564797623468\n"
     ]
    }
   ],
   "source": [
    "#분류기를 학습시킨후, 정확도 check\n",
    "classifier = nltk.NaiveBayesClassifier.train(train_xy)\n",
    "\n",
    "print(nltk.classify.accuracy(classifier, test_xy))"
   ]
  },
  {
   "cell_type": "code",
   "execution_count": 104,
   "metadata": {
    "scrolled": false
   },
   "outputs": [
    {
     "name": "stdout",
     "output_type": "stream",
     "text": [
      "Most Informative Features\n",
      "         exists(갚다/Verb) = True                1 : 2      =    937.3 : 1.0\n",
      "        exists(핫이슈/Noun) = True                1 : 2      =    937.3 : 1.0\n",
      "         exists(노숙/Noun) = True                1 : 4      =    923.6 : 1.0\n",
      "       exists(당첨번호/Noun) = True                1 : 4      =    923.6 : 1.0\n",
      "       exists(줄기세포/Noun) = True                1 : 4      =    923.6 : 1.0\n",
      "      exists(747/Number) = True                1 : 4      =    923.6 : 1.0\n",
      "        exists(불면증/Noun) = True                1 : 4      =    923.6 : 1.0\n",
      "        exists(관절염/Noun) = True                1 : 6      =    921.0 : 1.0\n",
      "         exists(로또/Noun) = True                1 : 6      =    921.0 : 1.0\n",
      "         exists(비즈/Noun) = True                1 : 6      =    921.0 : 1.0\n"
     ]
    }
   ],
   "source": [
    "\n",
    "classifier.show_most_informative_features(10)"
   ]
  },
  {
   "cell_type": "markdown",
   "metadata": {},
   "source": [
    "데이터 내의 명사들만 모아서 분류해보기"
   ]
  },
  {
   "cell_type": "code",
   "execution_count": 137,
   "metadata": {},
   "outputs": [
    {
     "data": {
      "text/plain": [
       "58449"
      ]
     },
     "execution_count": 137,
     "metadata": {},
     "output_type": "execute_result"
    }
   ],
   "source": [
    "select_noun = [f for f in text.vocab() if 'Noun' in f]\n",
    "len(select_noun)"
   ]
  },
  {
   "cell_type": "code",
   "execution_count": 135,
   "metadata": {},
   "outputs": [
    {
     "data": {
      "text/plain": [
       "['오랑캐/Noun',\n",
       " '물리/Noun',\n",
       " '치자/Noun',\n",
       " '일장기/Noun',\n",
       " '양/Noun',\n",
       " '두/Noun',\n",
       " '글자/Noun',\n",
       " '현수막/Noun',\n",
       " '내/Noun',\n",
       " '방탄소년단/Noun']"
      ]
     },
     "execution_count": 135,
     "metadata": {},
     "output_type": "execute_result"
    }
   ],
   "source": [
    "select_noun[:10]"
   ]
  },
  {
   "cell_type": "code",
   "execution_count": 133,
   "metadata": {
    "scrolled": true
   },
   "outputs": [
    {
     "data": {
      "text/plain": [
       "0"
      ]
     },
     "execution_count": 133,
     "metadata": {},
     "output_type": "execute_result"
    }
   ],
   "source": [
    "select_3000_noun= [f[0] for f in text.vocab().most_common(2000) if 'Noun' in f]\n",
    "len(select_3000_noun)"
   ]
  },
  {
   "cell_type": "code",
   "execution_count": 128,
   "metadata": {},
   "outputs": [
    {
     "data": {
      "text/plain": [
       "['하다/Verb',\n",
       " '을/Josa',\n",
       " '이/Josa',\n",
       " '의/Josa',\n",
       " '에/Josa',\n",
       " '를/Josa',\n",
       " '은/Josa',\n",
       " '는/Josa',\n",
       " '가/Josa',\n",
       " '있다/Adjective']"
      ]
     },
     "execution_count": 128,
     "metadata": {},
     "output_type": "execute_result"
    }
   ],
   "source": [
    "select_3000_noun[:10]"
   ]
  },
  {
   "cell_type": "code",
   "execution_count": 123,
   "metadata": {},
   "outputs": [],
   "source": [
    "def term_exists_noun(doc):\n",
    "    return {'exists({})'.format(word): (word in set(doc))\n",
    "           for word in select_3000_noun}"
   ]
  },
  {
   "cell_type": "code",
   "execution_count": 124,
   "metadata": {},
   "outputs": [],
   "source": [
    "train_xy = [(term_exists_noun(d), c) for d, c in train_docs1]\n",
    "test_xy = [(term_exists_noun(d), c) for d, c in test_docs1]"
   ]
  },
  {
   "cell_type": "code",
   "execution_count": 125,
   "metadata": {},
   "outputs": [],
   "source": [
    "example_noun = train_xy[0]"
   ]
  },
  {
   "cell_type": "code",
   "execution_count": 126,
   "metadata": {},
   "outputs": [
    {
     "data": {
      "text/plain": [
       "['exists(하다/Verb)',\n",
       " 'exists(을/Josa)',\n",
       " 'exists(이/Josa)',\n",
       " 'exists(의/Josa)',\n",
       " 'exists(에/Josa)',\n",
       " 'exists(를/Josa)',\n",
       " 'exists(은/Josa)',\n",
       " 'exists(는/Josa)',\n",
       " 'exists(가/Josa)',\n",
       " 'exists(있다/Adjective)']"
      ]
     },
     "execution_count": 126,
     "metadata": {},
     "output_type": "execute_result"
    }
   ],
   "source": [
    "list(example_noun[0].keys())[:10]"
   ]
  }
 ],
 "metadata": {
  "kernelspec": {
   "display_name": "Python 3",
   "language": "python",
   "name": "python3"
  },
  "language_info": {
   "codemirror_mode": {
    "name": "ipython",
    "version": 3
   },
   "file_extension": ".py",
   "mimetype": "text/x-python",
   "name": "python",
   "nbconvert_exporter": "python",
   "pygments_lexer": "ipython3",
   "version": "3.6.6"
  }
 },
 "nbformat": 4,
 "nbformat_minor": 2
}
